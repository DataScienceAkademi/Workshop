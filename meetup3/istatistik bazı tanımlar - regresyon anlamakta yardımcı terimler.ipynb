{
 "cells": [
  {
   "cell_type": "code",
   "execution_count": 5,
   "metadata": {},
   "outputs": [],
   "source": [
    "# Z-score\n",
    "# Z-score example; simple outlier detect, etc.\n",
    "# P-value , Significance Level\n",
    "# Residual, R squared, Adjusted R squared\n",
    "\n",
    "\n",
    "# References:\n",
    "# R squared: \n",
    "#     - https://towardsdatascience.com/coefficient-of-determination-r-squared-explained-db32700d924e\n"
   ]
  },
  {
   "cell_type": "markdown",
   "metadata": {},
   "source": [
    "### Z-score\n",
    "\\begin{equation*}\n",
    "Z = \\left( \\frac{x - \\mu}{\\sigma}  \\right)\n",
    "\\end{equation*}"
   ]
  },
  {
   "cell_type": "markdown",
   "metadata": {},
   "source": [
    "- Standardize etmek için dağılımı kullanırız.\n",
    "- $\\mu=0$ ve $\\sigma=1$ olan bir dağılım gibi düşünebiliriz. \n",
    "- Eğer normal standize dağılım dersek $\\mu=0$ ve $\\sigma=1$ olan bir normal dağılım anlaşılmalıdır."
   ]
  },
  {
   "cell_type": "markdown",
   "metadata": {},
   "source": [
    "- Eğer $\\sigma\\pm3$ aralığında değişkenlerin %99'unu kapsaması beklenmektedir.\n",
    "> $-3<Z<3$ aralığında değişkenlerin %99'unu kapsadığından yola çıkarak bu aralık dışında kalan değerleri aykırı değer gözüyle bakabiliriz. Ancak bu kesin yöntem değil, karar vermede yardımcı olması manasıyla kullanılabilecek bir yöntemdir.\n",
    "- Diğer görsel yöntemler ile aykırıların tesbiti ve interqertile (%25, %50, %75 lik dilimler) kullanılarak da bir fikir edinilebilinir. "
   ]
  },
  {
   "cell_type": "markdown",
   "metadata": {},
   "source": [
    "### p-value & Significance value\n",
    "- Anlam ya da güven aralığı (siginificance level) model veya hipotezinizi test etmeden önce belirlenmelidir.\n",
    "- Bu genelde bir kıyas içerdiğinden null hipoteziniz %95 doğruluk aralığında ve alternatif hipotezininde %5 aralığındaki değerleri içerdiği varsayarak ilerleyebiliriz.\n",
    "- Buna göre mesela linear regression da p-value null hipotez ve alternatif hipotezi temsil ediyor diyebiliriz. Buna göre null hipotez;  $y=b_0+b_1x_1+b_2x_2$ ... deki $b_1, b_2$ ... değerlerinin sıfır yani $x_1, x_2$...  arasında ilişki olmadığını varsayoruz. \n",
    "- Böylece alternatif hipotez: o katsayıların sıfırdan farklıdır ve değişkenler arasında ilişkinin olduğunu varsayıyoruz.\n",
    "- Buna göre testimizin sonucunda 0.05 değerinden büyük ise null hipotez doğrudur diye o değişkenleri kullanmamaya karar veriyoruz."
   ]
  },
  {
   "cell_type": "markdown",
   "metadata": {},
   "source": [
    "### What is R-squared and what does it do?\n",
    "R-squared is a statistical measure that’s used to assess the goodness of fit of our regression model."
   ]
  },
  {
   "cell_type": "markdown",
   "metadata": {},
   "source": [
    "##### Sum of Squared Error of Regression model (Residual)\n",
    "\\begin{equation*}\n",
    "SSE = \\left( \\sum_{i=1}^n y_i - \\hat{y}_i  \\right)\n",
    "\\end{equation*}"
   ]
  },
  {
   "cell_type": "markdown",
   "metadata": {},
   "source": [
    "##### Sum of square error of Base Line (Total)\n",
    "\\begin{equation*}\n",
    "SST = \\left( \\sum_{i=1}^n y_i - \\bar{y}_i  \\right)\n",
    "\\end{equation*}"
   ]
  },
  {
   "cell_type": "markdown",
   "metadata": {},
   "source": [
    "##### Sum of Squared Error of Regression model\n",
    "\\begin{equation*}\n",
    "SSR = \\left( \\sum_{i=1}^n \\hat{y}_i - \\bar{y}_i  \\right)\n",
    "\\end{equation*}"
   ]
  },
  {
   "cell_type": "markdown",
   "metadata": {},
   "source": [
    "\\begin{equation*}\n",
    "SST = SSR + SSE\n",
    "\\end{equation*}"
   ]
  },
  {
   "cell_type": "markdown",
   "metadata": {},
   "source": [
    "\\begin{equation*}\n",
    "R^2 = \\frac{SSR}{SST}\n",
    "\\end{equation*}"
   ]
  },
  {
   "cell_type": "markdown",
   "metadata": {},
   "source": [
    "- R square 0 ile 1 arasında bir sayı olacaktır. \n",
    "- 1'e ne kadar yakın ise o kadar bizim için iyidir.\n",
    "- 1'e yakın olduğu sürece modelimizin tahminlerinin ölçülen değere o kadar yakın olduğunı çıkarabiliriz.\n"
   ]
  },
  {
   "cell_type": "code",
   "execution_count": null,
   "metadata": {},
   "outputs": [],
   "source": []
  }
 ],
 "metadata": {
  "kernelspec": {
   "display_name": "Python 3",
   "language": "python",
   "name": "python3"
  },
  "language_info": {
   "codemirror_mode": {
    "name": "ipython",
    "version": 3
   },
   "file_extension": ".py",
   "mimetype": "text/x-python",
   "name": "python",
   "nbconvert_exporter": "python",
   "pygments_lexer": "ipython3",
   "version": "3.7.0"
  }
 },
 "nbformat": 4,
 "nbformat_minor": 2
}
