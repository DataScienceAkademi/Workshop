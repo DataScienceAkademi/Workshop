{
  "cells": [
    {
      "metadata": {
        "trusted": true,
        "_uuid": "2ea4bbd65bb7a91ea51bdacbdb44c2285e2b6239"
      },
      "cell_type": "code",
      "source": "import pandas as pd",
      "execution_count": null,
      "outputs": []
    },
    {
      "metadata": {
        "trusted": true,
        "_uuid": "4e1491509510ca0c02dee7b5cda04df3a8f9ca55"
      },
      "cell_type": "code",
      "source": "film_listesi=pd.read_csv('../input/imdbratings.data')",
      "execution_count": null,
      "outputs": []
    },
    {
      "metadata": {
        "trusted": true,
        "_uuid": "d708eb28611b8056d3a1ff97d52c01297b7ce68d"
      },
      "cell_type": "code",
      "source": "#Tipini öğrenelim\ntype(film_listesi)",
      "execution_count": null,
      "outputs": []
    },
    {
      "metadata": {
        "trusted": true,
        "_uuid": "659b8b7e464c701d54b34da21254ff8788ff34bb"
      },
      "cell_type": "code",
      "source": "#Tipini öğrenelim\ntype(film_listesi.title)",
      "execution_count": null,
      "outputs": []
    },
    {
      "metadata": {
        "trusted": true,
        "_uuid": "24dea36651bf1b39cc7c29d55b4501217f015123"
      },
      "cell_type": "code",
      "source": "film_listesi.head()",
      "execution_count": null,
      "outputs": []
    },
    {
      "metadata": {
        "trusted": true,
        "_uuid": "489951d74dd91e89ba8897782f3f6558ccb3f8a7"
      },
      "cell_type": "code",
      "source": "#liste hakkında bilgi alalım\nfilm_listesi.info()",
      "execution_count": null,
      "outputs": []
    },
    {
      "metadata": {
        "trusted": true,
        "_uuid": "7bcf9488cb76a557a1e7962500be35c76b0a0632"
      },
      "cell_type": "code",
      "source": "#Sıralayalım\nfilm_listesi.title.sort_values()",
      "execution_count": null,
      "outputs": []
    },
    {
      "metadata": {
        "trusted": true,
        "_uuid": "39804cb88049c4a0222e26646338eeef3035a3d9"
      },
      "cell_type": "code",
      "source": "#Bağıntısına bakalım\nfilm_listesi.corr()",
      "execution_count": null,
      "outputs": []
    },
    {
      "metadata": {
        "trusted": true,
        "_uuid": "9bed9a92b6dd9272fed194f93dd6a083bb20292d"
      },
      "cell_type": "code",
      "source": "film_listesi.title.sort_values(ascending=False)",
      "execution_count": null,
      "outputs": []
    },
    {
      "metadata": {
        "trusted": true,
        "_uuid": "5a49a75df5213b3876da782265ea9c72a2bea417"
      },
      "cell_type": "code",
      "source": "#title a göre sıralama işlemi\nfilm_listesi.sort_values('title')",
      "execution_count": null,
      "outputs": []
    },
    {
      "metadata": {
        "trusted": true,
        "_uuid": "b0eb57e9d95c0db699a467b2550a017e21c45ec4"
      },
      "cell_type": "code",
      "source": "#süreye göre sıralama işlemi\nfilm_listesi.sort_values('duration')",
      "execution_count": null,
      "outputs": []
    },
    {
      "metadata": {
        "trusted": true,
        "_uuid": "e77c092ee5d45ecdba9871d5fa9fdefb8dd6ca99"
      },
      "cell_type": "code",
      "source": "#süre ve türe göre sıralayalım\nfilm_listesi.sort_values(['duration','genre'])",
      "execution_count": null,
      "outputs": []
    },
    {
      "metadata": {
        "trusted": true,
        "_uuid": "d43cf0bf0fdb22d0311f5a73c4ef608ddae49b35"
      },
      "cell_type": "code",
      "source": "film_listesi.sort_values(['star_rating','genre','duration'])",
      "execution_count": null,
      "outputs": []
    },
    {
      "metadata": {
        "trusted": true,
        "_uuid": "f23dafb413daf373d3eafde2ec526e9f0ac962f8"
      },
      "cell_type": "code",
      "source": "#aynı datayı yeniden kullanalım fakat başka bir değişkene atayalım\nfilm_listesi2=pd.read_csv('../input/imdbratings.data')",
      "execution_count": null,
      "outputs": []
    },
    {
      "metadata": {
        "trusted": true,
        "_uuid": "c00af63173eae8779edd959dc6551b20d4b43c3a"
      },
      "cell_type": "code",
      "source": "#Film süresine göre uzunluk kategorileyelim\nfilm_listesi2_kategori=[]\nfor i in film_listesi2.duration:\n    if i <=80 :\n        film_listesi2_kategori.append('Çok Kısa')\n    elif i > 80 and i<=120:\n        film_listesi2_kategori.append('Normal')\n    else:\n        film_listesi2_kategori.append('Çok Uzun')\n        \n",
      "execution_count": null,
      "outputs": []
    },
    {
      "metadata": {
        "trusted": true,
        "_uuid": "940c2dfd388f5a822db333d5a75e30052a667507"
      },
      "cell_type": "code",
      "source": "film_listesi2['Uzunluk_Kategori']=film_listesi2_kategori\nfilm_listesi2.head(100)",
      "execution_count": null,
      "outputs": []
    },
    {
      "metadata": {
        "trusted": true,
        "_uuid": "1751a4f250d062a9026f30cf4d804a04e079278f"
      },
      "cell_type": "code",
      "source": "#Sıralayalım ascending=False\nfilm_listesi2.sort_values(['Uzunluk_Kategori','duration'])",
      "execution_count": null,
      "outputs": []
    },
    {
      "metadata": {
        "trusted": true,
        "_uuid": "b8468edce8e2c6c988ebb94fc93c3954e1f607e0"
      },
      "cell_type": "code",
      "source": "#sadece kategorisi normal olanları listeleyelim\nfilm_listesi2[film_listesi2.Uzunluk_Kategori=='Normal']",
      "execution_count": null,
      "outputs": []
    },
    {
      "metadata": {
        "trusted": true,
        "_uuid": "173b5e66a7de1436d7c3e89a26e1e545a98d9c48"
      },
      "cell_type": "code",
      "source": "film_listesi2[film_listesi2.genre=='Action']",
      "execution_count": null,
      "outputs": []
    },
    {
      "metadata": {
        "trusted": true,
        "_uuid": "0fd79d342bd1533661851809ba338b3fdac83bd5"
      },
      "cell_type": "code",
      "source": "film_listesi2[(film_listesi2.Uzunluk_Kategori=='Normal') & (film_listesi2.genre=='Action')]",
      "execution_count": null,
      "outputs": []
    },
    {
      "metadata": {
        "trusted": true,
        "_uuid": "b1251c214fe8b5eb18d22b7746c64f9c26a4926d"
      },
      "cell_type": "code",
      "source": "film_listesi2[film_listesi2.genre=='Action'][film_listesi2.Uzunluk_Kategori=='Normal']",
      "execution_count": null,
      "outputs": []
    },
    {
      "metadata": {
        "trusted": true,
        "_uuid": "988dde0eabf7fc103c88777a297a02779d3a8557"
      },
      "cell_type": "code",
      "source": "#rating değeri 9.0 dan büyük olanlar\nfilm_listesi2[(film_listesi2.genre=='Adventure')|(film_listesi2.star_rating>=9.0)]",
      "execution_count": null,
      "outputs": []
    },
    {
      "metadata": {
        "trusted": true,
        "_uuid": "1bc741b184e2e84fd1585bcd83ca913b7a30f08c"
      },
      "cell_type": "code",
      "source": "film_listesi2.groupby('genre').star_rating.mean().sort_values(ascending=False)",
      "execution_count": null,
      "outputs": []
    },
    {
      "metadata": {
        "trusted": true,
        "_uuid": "16e55f6e0bb9d979fdbc07d9ef537c93ebb667dd"
      },
      "cell_type": "code",
      "source": "%matplotlib inline\n",
      "execution_count": null,
      "outputs": []
    },
    {
      "metadata": {
        "trusted": true,
        "_uuid": "27982d92e6d9219113cd3067e31bbafcff7b05c2"
      },
      "cell_type": "code",
      "source": "film_listesi2.groupby('genre').star_rating.mean().sort_values(ascending=False).plot(kind='pie')",
      "execution_count": null,
      "outputs": []
    },
    {
      "metadata": {
        "trusted": true,
        "_uuid": "6a8fa554accf22cef12a35d11eb342eb3f3a8dd3"
      },
      "cell_type": "code",
      "source": "film_listesi2.groupby('genre').star_rating.mean().sort_values(ascending=False).plot(kind='line')",
      "execution_count": null,
      "outputs": []
    },
    {
      "metadata": {
        "trusted": true,
        "_uuid": "bb780c68a9a9c1b83706926479c7c3973e21c334"
      },
      "cell_type": "code",
      "source": "film_listesi2.groupby('genre').star_rating.mean().sort_values(ascending=False).plot(kind='bar')",
      "execution_count": null,
      "outputs": []
    },
    {
      "metadata": {
        "trusted": true,
        "_uuid": "9b8665a1acc8aa5679310d974294fcf027931728"
      },
      "cell_type": "code",
      "source": "film_listesi2.groupby('genre').star_rating.agg(['mean','median','min','max','count']).sort_values('mean',ascending=False)",
      "execution_count": null,
      "outputs": []
    },
    {
      "metadata": {
        "trusted": true,
        "_uuid": "3e9ab718668d333ce29a1774971482d41f9dde45"
      },
      "cell_type": "code",
      "source": "film_listesi2.info()",
      "execution_count": null,
      "outputs": []
    },
    {
      "metadata": {
        "trusted": true,
        "_uuid": "e88961f8b91c6eb1d23f1b5d2b68867355fc81df"
      },
      "cell_type": "code",
      "source": "film_listesi2[film_listesi2.actors_list.str.contains('John Travolta')]",
      "execution_count": null,
      "outputs": []
    },
    {
      "metadata": {
        "trusted": true,
        "_uuid": "b58a26223acc7d0f0ac1e29aa0825b5457de5fae"
      },
      "cell_type": "code",
      "source": "film_listesi2.actors_list.str.replace('[','').str.replace(']','')",
      "execution_count": null,
      "outputs": []
    },
    {
      "metadata": {
        "trusted": true,
        "_uuid": "1242bd290c47765b1f1684a77cc4313c9ec06f4f"
      },
      "cell_type": "code",
      "source": "film_listesi2.actors_list=film_listesi2.actors_list.str.replace(\"u'\",'').str.replace('[','').str.replace(']','')\n",
      "execution_count": null,
      "outputs": []
    },
    {
      "metadata": {
        "trusted": true,
        "_uuid": "ed4be99fa4c76fa4d815dde45f4b7cee6ee73241"
      },
      "cell_type": "code",
      "source": "actor_series=film_listesi2.actors_list.to_frame()",
      "execution_count": null,
      "outputs": []
    },
    {
      "metadata": {
        "trusted": true,
        "_uuid": "45a74bbd0c1b0ab184cdb4ff1a982c38d3cd2e61"
      },
      "cell_type": "code",
      "source": "film_listesi2.head()",
      "execution_count": null,
      "outputs": []
    },
    {
      "metadata": {
        "trusted": true,
        "_uuid": "3f8d9b685ecd65951464ebc5e018f80414c8e24d"
      },
      "cell_type": "code",
      "source": "film_listesi2.actors_list=film_listesi2.actors_list.str.replace(\"'\",'')",
      "execution_count": null,
      "outputs": []
    },
    {
      "metadata": {
        "trusted": true,
        "_uuid": "a2a15621d043ee0d22f3b926be7a85e9b9d792fa"
      },
      "cell_type": "code",
      "source": "film_listesi2.head()",
      "execution_count": null,
      "outputs": []
    },
    {
      "metadata": {
        "trusted": true,
        "_uuid": "45cf6b95f5a5a86997ff870365ec3e6655da22a1"
      },
      "cell_type": "code",
      "source": "film_listesi2.to_excel('../output/filmler.xlsx')",
      "execution_count": null,
      "outputs": []
    },
    {
      "metadata": {
        "trusted": true,
        "_uuid": "2261614e635a505e058c691231fe43fc9c791941"
      },
      "cell_type": "code",
      "source": "import os",
      "execution_count": null,
      "outputs": []
    },
    {
      "metadata": {
        "trusted": true,
        "_uuid": "e9c1e157fdb52b4caea15dd6c4938581e61597d9"
      },
      "cell_type": "code",
      "source": "os.mkdir('../output')",
      "execution_count": null,
      "outputs": []
    },
    {
      "metadata": {
        "trusted": true,
        "_uuid": "f19b8be0791e47ccf724aa27058f677c5b2dbc19"
      },
      "cell_type": "code",
      "source": "pd.read_excel('../output/filmler.xlsx')",
      "execution_count": null,
      "outputs": []
    },
    {
      "metadata": {
        "trusted": true,
        "_uuid": "9a19e08026841cd0250652f1575fb856c6155141"
      },
      "cell_type": "code",
      "source": "",
      "execution_count": null,
      "outputs": []
    }
  ],
  "metadata": {
    "kernelspec": {
      "display_name": "Python 3",
      "language": "python",
      "name": "python3"
    },
    "language_info": {
      "name": "python",
      "version": "3.6.6",
      "mimetype": "text/x-python",
      "codemirror_mode": {
        "name": "ipython",
        "version": 3
      },
      "pygments_lexer": "ipython3",
      "nbconvert_exporter": "python",
      "file_extension": ".py"
    }
  },
  "nbformat": 4,
  "nbformat_minor": 1
}