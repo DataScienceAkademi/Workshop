{
  "cells": [
    {
      "metadata": {
        "_uuid": "8f2839f25d086af736a60e9eeb907d3b93b6e0e5",
        "_cell_guid": "b1076dfc-b9ad-4769-8c92-a6c4dae69d19",
        "trusted": true
      },
      "cell_type": "code",
      "source": "# This Python 3 environment comes with many helpful analytics libraries installed\n# It is defined by the kaggle/python docker image: https://github.com/kaggle/docker-python\n# For example, here's several helpful packages to load in \n\nimport numpy as np # linear algebra\nimport pandas as pd # data processing, CSV file I/O (e.g. pd.read_csv)\n\n# Input data files are available in the \"../input/\" directory.\n# For example, running this (by clicking run or pressing Shift+Enter) will list the files in the input directory\n\nimport os\nprint(os.listdir(\"../input\"))\nimport dateutil\n\n\n# Any results you write to the current directory are saved as output.",
      "execution_count": null,
      "outputs": []
    },
    {
      "metadata": {
        "_cell_guid": "79c7e3d0-c299-4dcb-8224-4455121ee9b0",
        "_uuid": "d629ff2d2480ee46fbb7e2d37f6b5fab8052498a",
        "trusted": true
      },
      "cell_type": "code",
      "source": "# Load data from csv file\ndata = pd.read_csv('../input/phone_data.csv')",
      "execution_count": null,
      "outputs": []
    },
    {
      "metadata": {
        "trusted": true,
        "_uuid": "729a903bc0fef39ff9d4964cb623826a221bd056"
      },
      "cell_type": "code",
      "source": "data.head()",
      "execution_count": null,
      "outputs": []
    },
    {
      "metadata": {
        "trusted": true,
        "_uuid": "c2b6d624dc97c8b260db4ea59207dca5965be53c"
      },
      "cell_type": "code",
      "source": "# Convert date from string to date times\ndata['date'] = data['date'].apply(dateutil.parser.parse, dayfirst=True)",
      "execution_count": null,
      "outputs": []
    },
    {
      "metadata": {
        "trusted": true,
        "scrolled": true,
        "_uuid": "37b4f41d2531ed8ccc3d5564c7ca280aa068a698"
      },
      "cell_type": "code",
      "source": "data.head()",
      "execution_count": null,
      "outputs": []
    },
    {
      "metadata": {
        "_uuid": "25c54c582eadbc0ef0a2d3997922b205af61bae4"
      },
      "cell_type": "markdown",
      "source": "**Summarising the DataFrame**\n\nOnce the data has been loaded into Python, Pandas makes the calculation of different statistics very simple. For example, mean, max, min, standard deviations and more for columns are easily calculable:"
    },
    {
      "metadata": {
        "trusted": true,
        "_uuid": "199742a4bfa70695a1ee7ee7e5731d80e9badeee"
      },
      "cell_type": "code",
      "source": "# How many rows the dataset\ndata['item'].count()\n",
      "execution_count": null,
      "outputs": []
    },
    {
      "metadata": {
        "trusted": true,
        "_uuid": "b998f8fa620499f7fe036bdf5ea349bd6a0999ac"
      },
      "cell_type": "code",
      "source": "#another form\ndata.info()",
      "execution_count": null,
      "outputs": []
    },
    {
      "metadata": {
        "trusted": true,
        "_uuid": "2840e7ac7e50e1d97b8eb4ef6b7b6b8cf455c9c4"
      },
      "cell_type": "code",
      "source": "# What was the longest phone call / data entry?\ndata['duration'].max()",
      "execution_count": null,
      "outputs": []
    },
    {
      "metadata": {
        "trusted": true,
        "_uuid": "7b4f4c35d99ddde6adbdd4a6ad2d0a4486ba8a9d"
      },
      "cell_type": "code",
      "source": "# How many seconds of phone calls are recorded in total?\ndata['duration'][data['item'] == 'call'].sum()",
      "execution_count": null,
      "outputs": []
    },
    {
      "metadata": {
        "trusted": true,
        "_uuid": "d937c3800c454f5b2dc0ff9a6f787288dcce49d4"
      },
      "cell_type": "code",
      "source": "# How many entries are there for each month?\ndata['month'].value_counts()",
      "execution_count": null,
      "outputs": []
    },
    {
      "metadata": {
        "trusted": true,
        "scrolled": true,
        "_uuid": "ef107dba75e96609ef9a57a2f35061c5405e70d9"
      },
      "cell_type": "code",
      "source": "# Number of non-null unique network entries\ndata['network'].nunique()",
      "execution_count": null,
      "outputs": []
    },
    {
      "metadata": {
        "_uuid": "4440d47de8024d786732c2232d0d9fde3c2a318d"
      },
      "cell_type": "markdown",
      "source": "* Function\tDescription\n* count\tNumber of non-null observations\n* sum\tSum of values\n* mean\tMean of values\n* mad\tMean absolute deviation\n* median\tArithmetic median of values\n* min\tMinimum\n* max\tMaximum\n* mode\tMode\n* abs\tAbsolute Value\n* prod\tProduct of values\n* std\tUnbiased standard deviation\n* var\tUnbiased variance\n* sem\tUnbiased standard error of the mean\n* skew\tUnbiased skewness (3rd moment)\n* kurt\tUnbiased kurtosis (4th moment)\n* quantile\tSample quantile (value at %)\n* cumsum\tCumulative sum\n* cumprod\tCumulative product\n* cummax\tCumulative maximum\n* cummin\tCumulative minimum\n"
    },
    {
      "metadata": {
        "trusted": true,
        "_uuid": "3058af98e3ffa4ac0d817d0b151f97e759ae7d63"
      },
      "cell_type": "code",
      "source": "data.groupby(['month']).groups.keys()",
      "execution_count": null,
      "outputs": []
    },
    {
      "metadata": {
        "trusted": true,
        "_uuid": "0600c9c8fb946803bb921dc628afe52d5d9164fa"
      },
      "cell_type": "code",
      "source": "data.groupby(['item']).groups.keys()",
      "execution_count": null,
      "outputs": []
    },
    {
      "metadata": {
        "trusted": true,
        "_uuid": "92c94be8458cc0d37399228eb11054f994456d8b"
      },
      "cell_type": "code",
      "source": "data.groupby(['network']).groups.keys()",
      "execution_count": null,
      "outputs": []
    },
    {
      "metadata": {
        "trusted": true,
        "_uuid": "c83800f3152c160ff4e4c2701f3eb8b1bc119541"
      },
      "cell_type": "code",
      "source": "data.groupby(['network_type']).groups.keys()",
      "execution_count": null,
      "outputs": []
    },
    {
      "metadata": {
        "trusted": true,
        "_uuid": "bf4c86862ed427035ee05f43b93cc740f7c328eb"
      },
      "cell_type": "code",
      "source": "len(data.groupby(['month']).groups['2014-11'])",
      "execution_count": null,
      "outputs": []
    },
    {
      "metadata": {
        "trusted": true,
        "_uuid": "4fd574002c130b301b9efdc83be73755a603d232"
      },
      "cell_type": "code",
      "source": "len(data.groupby(['month']).groups['2015-02'])",
      "execution_count": null,
      "outputs": []
    },
    {
      "metadata": {
        "_uuid": "639b275985279e144202d8f56328519e1b6befbc"
      },
      "cell_type": "markdown",
      "source": "Functions like max(), min(), mean(), first(), last() can be quickly applied to the GroupBy object to obtain summary statistics for each group – an immensely useful function. "
    },
    {
      "metadata": {
        "trusted": true,
        "_uuid": "a56157a8057d52e0c45321eda8ca6e9e67a8202e"
      },
      "cell_type": "code",
      "source": "# Get the first entry for each month\ndata.groupby('month').first()",
      "execution_count": null,
      "outputs": []
    },
    {
      "metadata": {
        "trusted": true,
        "_uuid": "dd2d07612c11ef48a6fe5eb1bd3fbb1c0767ced4"
      },
      "cell_type": "code",
      "source": "# Get the sum of the durations per month\ndata.groupby('month')['duration'].sum()",
      "execution_count": null,
      "outputs": []
    },
    {
      "metadata": {
        "trusted": true,
        "_uuid": "87aa1f56c616086111eda67a9905401028f6ae4a"
      },
      "cell_type": "code",
      "source": "# Get the number of dates / entries in each month\ndata.groupby('month')['date'].count()",
      "execution_count": null,
      "outputs": []
    },
    {
      "metadata": {
        "trusted": true,
        "_uuid": "719b61cc932a7793b57473a5973f837c952c45c8"
      },
      "cell_type": "code",
      "source": "# What is the sum of durations, for calls only, to each network\ndata[data['item'] == 'call'].groupby('network')['duration'].sum()",
      "execution_count": null,
      "outputs": []
    },
    {
      "metadata": {
        "trusted": true,
        "_uuid": "89e279294cb29739953718ff45d389a5cee3d1e9"
      },
      "cell_type": "code",
      "source": "# How many calls, sms, and data entries are in each month?\ndata.groupby(['month', 'item'])['date'].count()",
      "execution_count": null,
      "outputs": []
    },
    {
      "metadata": {
        "trusted": true,
        "_uuid": "02e5ced92e02a18bb0512c27c5e5948d3f508aeb"
      },
      "cell_type": "code",
      "source": "# How many calls, texts, and data are sent per month, split by network_type?\ndata.groupby(['month', 'network_type'])['date'].count()\n",
      "execution_count": null,
      "outputs": []
    },
    {
      "metadata": {
        "trusted": true,
        "_uuid": "4d5fc688fd1d7f52b640d4ab0c78065db993a5d4"
      },
      "cell_type": "code",
      "source": "data.groupby('month')['duration'].sum() \n# produces Pandas Series",
      "execution_count": null,
      "outputs": []
    },
    {
      "metadata": {
        "trusted": true,
        "_uuid": "33ac694899d2c2d359654a12c2bc31bbb0ed6d29"
      },
      "cell_type": "code",
      "source": "data.groupby('month')[['duration']].sum() \n# Produces Pandas DataFrame",
      "execution_count": null,
      "outputs": []
    },
    {
      "metadata": {
        "trusted": true,
        "_uuid": "53142b00daa6a33bb86ff0377621f8dfdb88b24d"
      },
      "cell_type": "code",
      "source": "data.groupby('month', as_index=False).agg({\"duration\": \"sum\"})",
      "execution_count": null,
      "outputs": []
    },
    {
      "metadata": {
        "trusted": true,
        "_uuid": "b42cd3571348650d63ddd9b0f86851b07276da43"
      },
      "cell_type": "code",
      "source": "# Group the data frame by month and item and extract a number of stats from each group\ndata.groupby(['month', 'item']).agg({'duration':sum,      # find the sum of the durations for each group\n                                     'network_type': \"count\", # find the number of network type entries\n                                     'date': 'first'})    # get the first date per group",
      "execution_count": null,
      "outputs": []
    },
    {
      "metadata": {
        "trusted": true,
        "_uuid": "d0086d10373af5664eca9e9735737d2b3e592e1c"
      },
      "cell_type": "code",
      "source": "# Group the data frame by month and item and extract a number of stats from each group\ndata.groupby(['month', 'item']).agg({'duration': [min, max, sum],      # find the min, max, and sum of the duration column\n                                     'network_type': \"count\", # find the number of network type entries\n                                     'date': [min, 'first', 'nunique']})    # get the min, first, and number of unique dates per group",
      "execution_count": null,
      "outputs": []
    },
    {
      "metadata": {
        "trusted": true,
        "_uuid": "e877538e094d8c31b2c9396d8b9f4da544022b3f"
      },
      "cell_type": "code",
      "source": "",
      "execution_count": null,
      "outputs": []
    },
    {
      "metadata": {
        "trusted": true,
        "_uuid": "f26bb61fff7273b4cbcef2e0478bed0a1231ea4a"
      },
      "cell_type": "code",
      "source": "",
      "execution_count": null,
      "outputs": []
    },
    {
      "metadata": {
        "trusted": true,
        "_uuid": "38228512387530b2dec6bb47f044decc351d770b"
      },
      "cell_type": "code",
      "source": "",
      "execution_count": null,
      "outputs": []
    },
    {
      "metadata": {
        "trusted": true,
        "_uuid": "db1a29193b166ac37d9e82dda544d781f3c28649"
      },
      "cell_type": "code",
      "source": "",
      "execution_count": null,
      "outputs": []
    },
    {
      "metadata": {
        "trusted": true,
        "_uuid": "5b9ae244c5578a94c76c169378694864baff1a14"
      },
      "cell_type": "code",
      "source": "",
      "execution_count": null,
      "outputs": []
    },
    {
      "metadata": {
        "trusted": true,
        "_uuid": "5773bcf4a79029ced345836ed9052a68d8a37a5c"
      },
      "cell_type": "code",
      "source": "",
      "execution_count": null,
      "outputs": []
    },
    {
      "metadata": {
        "trusted": true,
        "_uuid": "cee2c12e81296eba7f55f8d716391e8efd9d2837"
      },
      "cell_type": "code",
      "source": "",
      "execution_count": null,
      "outputs": []
    },
    {
      "metadata": {
        "trusted": true,
        "_uuid": "8a1185f2c7c8afea02ad07128134d06322547617"
      },
      "cell_type": "code",
      "source": "",
      "execution_count": null,
      "outputs": []
    },
    {
      "metadata": {
        "trusted": true,
        "_uuid": "681cb8d4fc4023d4065d2d9a588dbc0947ee3e9b"
      },
      "cell_type": "code",
      "source": "",
      "execution_count": null,
      "outputs": []
    },
    {
      "metadata": {
        "trusted": true,
        "_uuid": "cff842e9dcb4e9f46bb90bfeb0de46f755d58d00"
      },
      "cell_type": "code",
      "source": "",
      "execution_count": null,
      "outputs": []
    }
  ],
  "metadata": {
    "kernelspec": {
      "display_name": "Python 3",
      "language": "python",
      "name": "python3"
    },
    "language_info": {
      "name": "python",
      "version": "3.6.6",
      "mimetype": "text/x-python",
      "codemirror_mode": {
        "name": "ipython",
        "version": 3
      },
      "pygments_lexer": "ipython3",
      "nbconvert_exporter": "python",
      "file_extension": ".py"
    }
  },
  "nbformat": 4,
  "nbformat_minor": 1
}